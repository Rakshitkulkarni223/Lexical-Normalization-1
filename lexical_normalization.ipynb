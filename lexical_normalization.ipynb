{
  "nbformat": 4,
  "nbformat_minor": 0,
  "metadata": {
    "colab": {
      "name": "lexical_normalization.ipynb",
      "provenance": [],
      "collapsed_sections": []
    },
    "kernelspec": {
      "name": "python3",
      "display_name": "Python 3"
    },
    "language_info": {
      "name": "python"
    },
    "accelerator": "GPU"
  },
  "cells": [
    {
      "cell_type": "code",
      "metadata": {
        "colab": {
          "base_uri": "https://localhost:8080/"
        },
        "id": "XLtM5EJ4o6Za",
        "outputId": "dafbcdb8-e33c-4989-91c5-ba077c55e975"
      },
      "source": [
        "import warnings\n",
        "warnings.filterwarnings('ignore',category=FutureWarning)\n",
        "\n",
        "import re\n",
        "import os\n",
        "import time\n",
        "import json\n",
        "import numpy as np\n",
        "import pandas as pd\n",
        "import pickle as pkl\n",
        "from tensorflow import keras\n",
        "import matplotlib.pyplot as plt\n",
        "from collections import defaultdict \n",
        "import tensorflow.keras.backend as K\n",
        "\n",
        "from tensorflow import one_hot\n",
        "from tensorflow.keras.preprocessing.text import Tokenizer\n",
        "from tensorflow.keras.preprocessing.sequence import pad_sequences\n",
        "\n",
        "from tensorflow.keras.models import Sequential\n",
        "\n",
        "from tensorflow.keras.layers import LSTM\n",
        "from tensorflow.keras.layers import Dense\n",
        "from tensorflow.keras.layers import Input\n",
        "from tensorflow.keras.layers import Embedding\n",
        "from tensorflow.keras.layers import Activation\n",
        "from tensorflow.keras.layers import RepeatVector\n",
        "from tensorflow.keras.layers import Bidirectional\n",
        "from tensorflow.keras.layers import TimeDistributed\n",
        "\n",
        "from tensorflow.keras.optimizers import Adam\n",
        "\n",
        "TEST = 50\n",
        "EPOCHS = 15\n",
        "LIMIT = 700\n",
        "MAX_LEN = 50\n",
        "BATCH_SIZE = 16\n",
        "HIDDEN_DIM = 100\n",
        "VECTOR_DIM = 100\n",
        "VALID_SPLIT = 0.15\n",
        "\n",
        "def get_data(path, setNum):\n",
        "\n",
        "    X = []\n",
        "    Y = []\n",
        "\n",
        "    data = json.load(open(path))\n",
        "\n",
        "    if setNum:\n",
        "        data = data[LIMIT*(setNum-1):LIMIT*setNum] \n",
        "\n",
        "    for dict in data:\n",
        "\n",
        "        x = dict['input']\n",
        "        y = dict['output']\n",
        "\n",
        "        n = len(x)\n",
        "\n",
        "        for i in range(n):\n",
        "            x[i] = re.sub('@[^ ]+','<username>',x[i])\n",
        "            x[i] = re.sub('http://[^ ]+','<link>',x[i])\n",
        "\n",
        "            y[i] = re.sub('@[^ ]+','<username>',y[i])\n",
        "            y[i] = re.sub('http://[^ ]+','<link>',y[i])\n",
        "\n",
        "        for _ in range(MAX_LEN-n):\n",
        "            x.append(\"\")\n",
        "            y.append(\"\")\n",
        "        \n",
        "        X.append(x)\n",
        "        Y.append(y)\n",
        "\n",
        "    return X, Y\n",
        "\n",
        "def buildDict(data):\n",
        "\n",
        "    wordToNum = defaultdict(int)\n",
        "    num = 1\n",
        "    for sent in data:\n",
        "        for word in sent:\n",
        "            if not wordToNum[word]:\n",
        "                wordToNum[word] = num\n",
        "                num+= 1\n",
        "\n",
        "    return wordToNum\n",
        "\n",
        "def buildDictInv(wordToNum):\n",
        "\n",
        "    numToWord = defaultdict(str)\n",
        "\n",
        "    for key in wordToNum.keys():\n",
        "        numToWord[wordToNum[key]]=key\n",
        "\n",
        "    return numToWord\n",
        "\n",
        "def tokenize(data,wordToNum):\n",
        "\n",
        "    tokenizedData = []\n",
        "\n",
        "    for sent in data:\n",
        "\n",
        "        tokenizedSent = []\n",
        "        for word in sent:\n",
        "            tokenizedSent.append(wordToNum[word])\n",
        "\n",
        "        tokenizedSent=np.array(tokenizedSent,dtype=float)\n",
        "        tokenizedData.append(tokenizedSent)\n",
        "\n",
        "    return np.array(tokenizedData)\n",
        "\n",
        "def getModel(VOCAB_SIZE):\n",
        "\n",
        "    model = Sequential()\n",
        "\n",
        "    model.add(Input(shape=(MAX_LEN,)))\n",
        "    model.add(Embedding(VOCAB_SIZE, output_dim=VECTOR_DIM, input_length=MAX_LEN, trainable=True))\n",
        "    model.add(LSTM(HIDDEN_DIM, return_sequences = True))\n",
        "    model.add(TimeDistributed(Dense(VOCAB_SIZE)))\n",
        "    model.add(Activation('softmax'))\n",
        "    model.compile(optimizer='adam', loss='categorical_crossentropy', metrics=['accuracy'])\n",
        "    \n",
        "    print(model.summary())\n",
        "    \n",
        "    return model\n",
        "\n",
        "def defineModel():\n",
        "\n",
        "    raw, normalized = get_data('data.json', 0)\n",
        "\n",
        "    wordToNum = buildDict(raw + normalized)\n",
        "    numToWord = buildDictInv(wordToNum)\n",
        "    vocab_size = len(wordToNum)+1\n",
        "\n",
        "    model       = getModel(vocab_size)\n",
        "\n",
        "    model.save('model.h5')\n",
        "\n",
        "    return wordToNum, numToWord\n",
        "\n",
        "wordToNum, numToWord = defineModel()"
      ],
      "execution_count": 1,
      "outputs": [
        {
          "output_type": "stream",
          "text": [
            "Model: \"sequential\"\n",
            "_________________________________________________________________\n",
            "Layer (type)                 Output Shape              Param #   \n",
            "=================================================================\n",
            "embedding (Embedding)        (None, 50, 100)           1634100   \n",
            "_________________________________________________________________\n",
            "lstm (LSTM)                  (None, 50, 100)           80400     \n",
            "_________________________________________________________________\n",
            "time_distributed (TimeDistri (None, 50, 16341)         1650441   \n",
            "_________________________________________________________________\n",
            "activation (Activation)      (None, 50, 16341)         0         \n",
            "=================================================================\n",
            "Total params: 3,364,941\n",
            "Trainable params: 3,364,941\n",
            "Non-trainable params: 0\n",
            "_________________________________________________________________\n",
            "None\n"
          ],
          "name": "stdout"
        }
      ]
    },
    {
      "cell_type": "code",
      "metadata": {
        "id": "fCinAgOB1f5K"
      },
      "source": [
        "def train(setNum):\n",
        "\n",
        "  model = keras.models.load_model('model.h5')\n",
        "\n",
        "  raw, normalized = get_data('data.json', setNum)\n",
        "\n",
        "  raw = tokenize(raw, wordToNum)\n",
        "  normalized = tokenize(normalized, wordToNum)\n",
        "\n",
        "  x = raw\n",
        "  y = normalized\n",
        "  y = one_hot(y,len(wordToNum)+1, on_value=1, off_value=0)\n",
        "\n",
        "  model.fit(x, y, batch_size = BATCH_SIZE, epochs = EPOCHS, validation_split = VALID_SPLIT)\n",
        "\n",
        "  model.save('model.h5')"
      ],
      "execution_count": 2,
      "outputs": []
    },
    {
      "cell_type": "code",
      "metadata": {
        "colab": {
          "base_uri": "https://localhost:8080/"
        },
        "id": "ZNFbXUgO_0zM",
        "outputId": "01e895e5-f5ac-4d60-dcda-8d5ceb355073"
      },
      "source": [
        "train(1)"
      ],
      "execution_count": 3,
      "outputs": [
        {
          "output_type": "stream",
          "text": [
            "Epoch 1/15\n",
            "38/38 [==============================] - 35s 95ms/step - loss: 7.8208 - accuracy: 0.6779 - val_loss: 4.2511 - val_accuracy: 0.7211\n",
            "Epoch 2/15\n",
            "38/38 [==============================] - 3s 74ms/step - loss: 3.0979 - accuracy: 0.6928 - val_loss: 2.7039 - val_accuracy: 0.7211\n",
            "Epoch 3/15\n",
            "38/38 [==============================] - 3s 75ms/step - loss: 2.7273 - accuracy: 0.6928 - val_loss: 2.7026 - val_accuracy: 0.7211\n",
            "Epoch 4/15\n",
            "38/38 [==============================] - 3s 75ms/step - loss: 2.6880 - accuracy: 0.6922 - val_loss: 2.6869 - val_accuracy: 0.7211\n",
            "Epoch 5/15\n",
            "38/38 [==============================] - 3s 75ms/step - loss: 2.5981 - accuracy: 0.6928 - val_loss: 2.5636 - val_accuracy: 0.7211\n",
            "Epoch 6/15\n",
            "38/38 [==============================] - 3s 76ms/step - loss: 2.3889 - accuracy: 0.6928 - val_loss: 2.3292 - val_accuracy: 0.7211\n",
            "Epoch 7/15\n",
            "38/38 [==============================] - 3s 74ms/step - loss: 2.2007 - accuracy: 0.6928 - val_loss: 2.2198 - val_accuracy: 0.7211\n",
            "Epoch 8/15\n",
            "38/38 [==============================] - 3s 75ms/step - loss: 2.0964 - accuracy: 0.6928 - val_loss: 2.1608 - val_accuracy: 0.7211\n",
            "Epoch 9/15\n",
            "38/38 [==============================] - 3s 74ms/step - loss: 2.0246 - accuracy: 0.7000 - val_loss: 2.1166 - val_accuracy: 0.7335\n",
            "Epoch 10/15\n",
            "38/38 [==============================] - 3s 74ms/step - loss: 1.9693 - accuracy: 0.7065 - val_loss: 2.0829 - val_accuracy: 0.7339\n",
            "Epoch 11/15\n",
            "38/38 [==============================] - 3s 74ms/step - loss: 1.9250 - accuracy: 0.7123 - val_loss: 2.0683 - val_accuracy: 0.7394\n",
            "Epoch 12/15\n",
            "38/38 [==============================] - 3s 75ms/step - loss: 1.8883 - accuracy: 0.7133 - val_loss: 2.0529 - val_accuracy: 0.7406\n",
            "Epoch 13/15\n",
            "38/38 [==============================] - 3s 76ms/step - loss: 1.8541 - accuracy: 0.7159 - val_loss: 2.0394 - val_accuracy: 0.7430\n",
            "Epoch 14/15\n",
            "38/38 [==============================] - 3s 74ms/step - loss: 1.8216 - accuracy: 0.7207 - val_loss: 2.0298 - val_accuracy: 0.7451\n",
            "Epoch 15/15\n",
            "38/38 [==============================] - 3s 73ms/step - loss: 1.7904 - accuracy: 0.7254 - val_loss: 2.0200 - val_accuracy: 0.7524\n"
          ],
          "name": "stdout"
        }
      ]
    },
    {
      "cell_type": "code",
      "metadata": {
        "colab": {
          "base_uri": "https://localhost:8080/"
        },
        "id": "ieRYczRjBBsh",
        "outputId": "d7246a55-abf5-47e8-bd13-afa33a55018b"
      },
      "source": [
        "train(2)"
      ],
      "execution_count": 4,
      "outputs": [
        {
          "output_type": "stream",
          "text": [
            "Epoch 1/15\n",
            "38/38 [==============================] - 4s 89ms/step - loss: 2.0130 - accuracy: 0.7396 - val_loss: 1.9792 - val_accuracy: 0.7434\n",
            "Epoch 2/15\n",
            "38/38 [==============================] - 3s 74ms/step - loss: 1.8475 - accuracy: 0.7469 - val_loss: 1.9464 - val_accuracy: 0.7427\n",
            "Epoch 3/15\n",
            "38/38 [==============================] - 3s 75ms/step - loss: 1.7622 - accuracy: 0.7493 - val_loss: 1.9302 - val_accuracy: 0.7484\n",
            "Epoch 4/15\n",
            "38/38 [==============================] - 3s 75ms/step - loss: 1.7001 - accuracy: 0.7501 - val_loss: 1.9231 - val_accuracy: 0.7505\n",
            "Epoch 5/15\n",
            "38/38 [==============================] - 3s 76ms/step - loss: 1.6494 - accuracy: 0.7537 - val_loss: 1.9175 - val_accuracy: 0.7537\n",
            "Epoch 6/15\n",
            "38/38 [==============================] - 3s 75ms/step - loss: 1.6049 - accuracy: 0.7570 - val_loss: 1.9094 - val_accuracy: 0.7550\n",
            "Epoch 7/15\n",
            "38/38 [==============================] - 3s 73ms/step - loss: 1.5644 - accuracy: 0.7587 - val_loss: 1.9038 - val_accuracy: 0.7606\n",
            "Epoch 8/15\n",
            "38/38 [==============================] - 3s 75ms/step - loss: 1.5264 - accuracy: 0.7630 - val_loss: 1.8956 - val_accuracy: 0.7644\n",
            "Epoch 9/15\n",
            "38/38 [==============================] - 3s 75ms/step - loss: 1.4902 - accuracy: 0.7671 - val_loss: 1.8834 - val_accuracy: 0.7699\n",
            "Epoch 10/15\n",
            "38/38 [==============================] - 3s 74ms/step - loss: 1.4527 - accuracy: 0.7705 - val_loss: 1.8774 - val_accuracy: 0.7754\n",
            "Epoch 11/15\n",
            "38/38 [==============================] - 3s 76ms/step - loss: 1.4166 - accuracy: 0.7778 - val_loss: 1.8675 - val_accuracy: 0.7827\n",
            "Epoch 12/15\n",
            "38/38 [==============================] - 3s 76ms/step - loss: 1.3811 - accuracy: 0.7837 - val_loss: 1.8578 - val_accuracy: 0.7836\n",
            "Epoch 13/15\n",
            "38/38 [==============================] - 3s 75ms/step - loss: 1.3468 - accuracy: 0.7869 - val_loss: 1.8475 - val_accuracy: 0.7884\n",
            "Epoch 14/15\n",
            "38/38 [==============================] - 3s 75ms/step - loss: 1.3128 - accuracy: 0.7915 - val_loss: 1.8361 - val_accuracy: 0.7916\n",
            "Epoch 15/15\n",
            "38/38 [==============================] - 3s 75ms/step - loss: 1.2809 - accuracy: 0.7968 - val_loss: 1.8254 - val_accuracy: 0.7958\n"
          ],
          "name": "stdout"
        }
      ]
    },
    {
      "cell_type": "code",
      "metadata": {
        "colab": {
          "base_uri": "https://localhost:8080/"
        },
        "id": "Pp0oZA0dBdJT",
        "outputId": "fdbc83bd-5bc9-4fef-b748-1542afc00e1d"
      },
      "source": [
        "train(3)"
      ],
      "execution_count": 5,
      "outputs": [
        {
          "output_type": "stream",
          "text": [
            "Epoch 1/15\n",
            "38/38 [==============================] - 4s 87ms/step - loss: 1.7097 - accuracy: 0.7953 - val_loss: 1.6075 - val_accuracy: 0.8048\n",
            "Epoch 2/15\n",
            "38/38 [==============================] - 3s 75ms/step - loss: 1.5325 - accuracy: 0.7998 - val_loss: 1.5830 - val_accuracy: 0.8065\n",
            "Epoch 3/15\n",
            "38/38 [==============================] - 3s 75ms/step - loss: 1.4399 - accuracy: 0.8024 - val_loss: 1.5691 - val_accuracy: 0.8095\n",
            "Epoch 4/15\n",
            "38/38 [==============================] - 3s 75ms/step - loss: 1.3666 - accuracy: 0.8079 - val_loss: 1.5640 - val_accuracy: 0.8112\n",
            "Epoch 5/15\n",
            "38/38 [==============================] - 3s 76ms/step - loss: 1.3051 - accuracy: 0.8125 - val_loss: 1.5603 - val_accuracy: 0.8137\n",
            "Epoch 6/15\n",
            "38/38 [==============================] - 3s 75ms/step - loss: 1.2498 - accuracy: 0.8151 - val_loss: 1.5555 - val_accuracy: 0.8187\n",
            "Epoch 7/15\n",
            "38/38 [==============================] - 3s 76ms/step - loss: 1.2002 - accuracy: 0.8195 - val_loss: 1.5529 - val_accuracy: 0.8196\n",
            "Epoch 8/15\n",
            "38/38 [==============================] - 3s 76ms/step - loss: 1.1528 - accuracy: 0.8238 - val_loss: 1.5494 - val_accuracy: 0.8225\n",
            "Epoch 9/15\n",
            "38/38 [==============================] - 3s 76ms/step - loss: 1.1085 - accuracy: 0.8270 - val_loss: 1.5454 - val_accuracy: 0.8257\n",
            "Epoch 10/15\n",
            "38/38 [==============================] - 3s 75ms/step - loss: 1.0662 - accuracy: 0.8315 - val_loss: 1.5409 - val_accuracy: 0.8284\n",
            "Epoch 11/15\n",
            "38/38 [==============================] - 3s 76ms/step - loss: 1.0251 - accuracy: 0.8354 - val_loss: 1.5374 - val_accuracy: 0.8303\n",
            "Epoch 12/15\n",
            "38/38 [==============================] - 3s 76ms/step - loss: 0.9860 - accuracy: 0.8401 - val_loss: 1.5309 - val_accuracy: 0.8330\n",
            "Epoch 13/15\n",
            "38/38 [==============================] - 3s 76ms/step - loss: 0.9468 - accuracy: 0.8456 - val_loss: 1.5272 - val_accuracy: 0.8339\n",
            "Epoch 14/15\n",
            "38/38 [==============================] - 3s 77ms/step - loss: 0.9092 - accuracy: 0.8510 - val_loss: 1.5251 - val_accuracy: 0.8377\n",
            "Epoch 15/15\n",
            "38/38 [==============================] - 3s 75ms/step - loss: 0.8728 - accuracy: 0.8581 - val_loss: 1.5174 - val_accuracy: 0.8400\n"
          ],
          "name": "stdout"
        }
      ]
    },
    {
      "cell_type": "code",
      "metadata": {
        "colab": {
          "base_uri": "https://localhost:8080/"
        },
        "id": "7at2C2CeBk4B",
        "outputId": "e6acaaaf-bcc3-4417-b9ce-bd79e38e1ed7"
      },
      "source": [
        "train(4)"
      ],
      "execution_count": 6,
      "outputs": [
        {
          "output_type": "stream",
          "text": [
            "Epoch 1/15\n",
            "38/38 [==============================] - 5s 102ms/step - loss: 1.4913 - accuracy: 0.8264 - val_loss: 1.3243 - val_accuracy: 0.8421\n",
            "Epoch 2/15\n",
            "38/38 [==============================] - 3s 74ms/step - loss: 1.3007 - accuracy: 0.8358 - val_loss: 1.3026 - val_accuracy: 0.8482\n",
            "Epoch 3/15\n",
            "38/38 [==============================] - 3s 76ms/step - loss: 1.1994 - accuracy: 0.8410 - val_loss: 1.2952 - val_accuracy: 0.8495\n",
            "Epoch 4/15\n",
            "38/38 [==============================] - 3s 79ms/step - loss: 1.1174 - accuracy: 0.8467 - val_loss: 1.2951 - val_accuracy: 0.8520\n",
            "Epoch 5/15\n",
            "38/38 [==============================] - 3s 76ms/step - loss: 1.0439 - accuracy: 0.8515 - val_loss: 1.2982 - val_accuracy: 0.8537\n",
            "Epoch 6/15\n",
            "38/38 [==============================] - 3s 76ms/step - loss: 0.9798 - accuracy: 0.8559 - val_loss: 1.2984 - val_accuracy: 0.8558\n",
            "Epoch 7/15\n",
            "38/38 [==============================] - 3s 77ms/step - loss: 0.9206 - accuracy: 0.8605 - val_loss: 1.3006 - val_accuracy: 0.8583\n",
            "Epoch 8/15\n",
            "38/38 [==============================] - 3s 77ms/step - loss: 0.8664 - accuracy: 0.8662 - val_loss: 1.3007 - val_accuracy: 0.8608\n",
            "Epoch 9/15\n",
            "38/38 [==============================] - 3s 77ms/step - loss: 0.8151 - accuracy: 0.8754 - val_loss: 1.3016 - val_accuracy: 0.8632\n",
            "Epoch 10/15\n",
            "38/38 [==============================] - 3s 78ms/step - loss: 0.7668 - accuracy: 0.8852 - val_loss: 1.2996 - val_accuracy: 0.8648\n",
            "Epoch 11/15\n",
            "38/38 [==============================] - 3s 76ms/step - loss: 0.7200 - accuracy: 0.8976 - val_loss: 1.3019 - val_accuracy: 0.8648\n",
            "Epoch 12/15\n",
            "38/38 [==============================] - 3s 76ms/step - loss: 0.6755 - accuracy: 0.9095 - val_loss: 1.3014 - val_accuracy: 0.8665\n",
            "Epoch 13/15\n",
            "38/38 [==============================] - 3s 78ms/step - loss: 0.6328 - accuracy: 0.9187 - val_loss: 1.3024 - val_accuracy: 0.8670\n",
            "Epoch 14/15\n",
            "38/38 [==============================] - 3s 76ms/step - loss: 0.5921 - accuracy: 0.9294 - val_loss: 1.3023 - val_accuracy: 0.8684\n",
            "Epoch 15/15\n",
            "38/38 [==============================] - 3s 77ms/step - loss: 0.5533 - accuracy: 0.9390 - val_loss: 1.3029 - val_accuracy: 0.8695\n"
          ],
          "name": "stdout"
        }
      ]
    },
    {
      "cell_type": "code",
      "metadata": {
        "colab": {
          "base_uri": "https://localhost:8080/"
        },
        "id": "EJFsi2kQBplX",
        "outputId": "bc26275d-e869-4bab-e11c-26fee2bec8ec"
      },
      "source": [
        "train(1)"
      ],
      "execution_count": 7,
      "outputs": [
        {
          "output_type": "stream",
          "text": [
            "Epoch 1/15\n",
            "38/38 [==============================] - 4s 90ms/step - loss: 1.1745 - accuracy: 0.8598 - val_loss: 1.2714 - val_accuracy: 0.8657\n",
            "Epoch 2/15\n",
            "38/38 [==============================] - 3s 76ms/step - loss: 1.0398 - accuracy: 0.8672 - val_loss: 1.2575 - val_accuracy: 0.8686\n",
            "Epoch 3/15\n",
            "38/38 [==============================] - 3s 77ms/step - loss: 0.9607 - accuracy: 0.8732 - val_loss: 1.2548 - val_accuracy: 0.8716\n",
            "Epoch 4/15\n",
            "38/38 [==============================] - 3s 75ms/step - loss: 0.8995 - accuracy: 0.8779 - val_loss: 1.2595 - val_accuracy: 0.8728\n",
            "Epoch 5/15\n",
            "38/38 [==============================] - 3s 77ms/step - loss: 0.8465 - accuracy: 0.8821 - val_loss: 1.2607 - val_accuracy: 0.8731\n",
            "Epoch 6/15\n",
            "38/38 [==============================] - 3s 76ms/step - loss: 0.7977 - accuracy: 0.8868 - val_loss: 1.2651 - val_accuracy: 0.8747\n",
            "Epoch 7/15\n",
            "38/38 [==============================] - 3s 77ms/step - loss: 0.7513 - accuracy: 0.8908 - val_loss: 1.2671 - val_accuracy: 0.8758\n",
            "Epoch 8/15\n",
            "38/38 [==============================] - 3s 76ms/step - loss: 0.7067 - accuracy: 0.8958 - val_loss: 1.2702 - val_accuracy: 0.8777\n",
            "Epoch 9/15\n",
            "38/38 [==============================] - 3s 77ms/step - loss: 0.6640 - accuracy: 0.9008 - val_loss: 1.2718 - val_accuracy: 0.8771\n",
            "Epoch 10/15\n",
            "38/38 [==============================] - 3s 77ms/step - loss: 0.6239 - accuracy: 0.9082 - val_loss: 1.2732 - val_accuracy: 0.8785\n",
            "Epoch 11/15\n",
            "38/38 [==============================] - 3s 76ms/step - loss: 0.5841 - accuracy: 0.9173 - val_loss: 1.2743 - val_accuracy: 0.8798\n",
            "Epoch 12/15\n",
            "38/38 [==============================] - 3s 75ms/step - loss: 0.5471 - accuracy: 0.9282 - val_loss: 1.2776 - val_accuracy: 0.8817\n",
            "Epoch 13/15\n",
            "38/38 [==============================] - 3s 75ms/step - loss: 0.5117 - accuracy: 0.9402 - val_loss: 1.2767 - val_accuracy: 0.8827\n",
            "Epoch 14/15\n",
            "38/38 [==============================] - 3s 78ms/step - loss: 0.4774 - accuracy: 0.9514 - val_loss: 1.2783 - val_accuracy: 0.8836\n",
            "Epoch 15/15\n",
            "38/38 [==============================] - 3s 75ms/step - loss: 0.4453 - accuracy: 0.9601 - val_loss: 1.2793 - val_accuracy: 0.8850\n"
          ],
          "name": "stdout"
        }
      ]
    },
    {
      "cell_type": "code",
      "metadata": {
        "colab": {
          "base_uri": "https://localhost:8080/"
        },
        "id": "0iz1K0AdB4bP",
        "outputId": "cd584da7-2cc6-4f82-9daa-21106944c73e"
      },
      "source": [
        "train(2)"
      ],
      "execution_count": 8,
      "outputs": [
        {
          "output_type": "stream",
          "text": [
            "Epoch 1/15\n",
            "38/38 [==============================] - 4s 89ms/step - loss: 0.9225 - accuracy: 0.8846 - val_loss: 1.2119 - val_accuracy: 0.8851\n",
            "Epoch 2/15\n",
            "38/38 [==============================] - 3s 76ms/step - loss: 0.7723 - accuracy: 0.8922 - val_loss: 1.2206 - val_accuracy: 0.8876\n",
            "Epoch 3/15\n",
            "38/38 [==============================] - 3s 75ms/step - loss: 0.6982 - accuracy: 0.8995 - val_loss: 1.2174 - val_accuracy: 0.8886\n",
            "Epoch 4/15\n",
            "38/38 [==============================] - 3s 76ms/step - loss: 0.6441 - accuracy: 0.9057 - val_loss: 1.2257 - val_accuracy: 0.8897\n",
            "Epoch 5/15\n",
            "38/38 [==============================] - 3s 76ms/step - loss: 0.5984 - accuracy: 0.9109 - val_loss: 1.2237 - val_accuracy: 0.8901\n",
            "Epoch 6/15\n",
            "38/38 [==============================] - 3s 76ms/step - loss: 0.5569 - accuracy: 0.9169 - val_loss: 1.2289 - val_accuracy: 0.8909\n",
            "Epoch 7/15\n",
            "38/38 [==============================] - 3s 77ms/step - loss: 0.5189 - accuracy: 0.9253 - val_loss: 1.2316 - val_accuracy: 0.8910\n",
            "Epoch 8/15\n",
            "38/38 [==============================] - 3s 76ms/step - loss: 0.4835 - accuracy: 0.9355 - val_loss: 1.2332 - val_accuracy: 0.8922\n",
            "Epoch 9/15\n",
            "38/38 [==============================] - 3s 78ms/step - loss: 0.4486 - accuracy: 0.9475 - val_loss: 1.2321 - val_accuracy: 0.8924\n",
            "Epoch 10/15\n",
            "38/38 [==============================] - 3s 75ms/step - loss: 0.4169 - accuracy: 0.9596 - val_loss: 1.2346 - val_accuracy: 0.8926\n",
            "Epoch 11/15\n",
            "38/38 [==============================] - 3s 77ms/step - loss: 0.3866 - accuracy: 0.9666 - val_loss: 1.2354 - val_accuracy: 0.8926\n",
            "Epoch 12/15\n",
            "38/38 [==============================] - 3s 76ms/step - loss: 0.3570 - accuracy: 0.9743 - val_loss: 1.2389 - val_accuracy: 0.8924\n",
            "Epoch 13/15\n",
            "38/38 [==============================] - 3s 77ms/step - loss: 0.3299 - accuracy: 0.9805 - val_loss: 1.2399 - val_accuracy: 0.8926\n",
            "Epoch 14/15\n",
            "38/38 [==============================] - 3s 75ms/step - loss: 0.3037 - accuracy: 0.9850 - val_loss: 1.2387 - val_accuracy: 0.8937\n",
            "Epoch 15/15\n",
            "38/38 [==============================] - 3s 78ms/step - loss: 0.2793 - accuracy: 0.9889 - val_loss: 1.2419 - val_accuracy: 0.8931\n"
          ],
          "name": "stdout"
        }
      ]
    },
    {
      "cell_type": "code",
      "metadata": {
        "colab": {
          "base_uri": "https://localhost:8080/"
        },
        "id": "_2Cq5tQdB5Ku",
        "outputId": "248d1f05-46eb-4502-99ec-5b27ebdc6035"
      },
      "source": [
        "train(3)"
      ],
      "execution_count": 9,
      "outputs": [
        {
          "output_type": "stream",
          "text": [
            "Epoch 1/15\n",
            "38/38 [==============================] - 5s 101ms/step - loss: 0.6816 - accuracy: 0.9051 - val_loss: 1.1494 - val_accuracy: 0.8945\n",
            "Epoch 2/15\n",
            "38/38 [==============================] - 3s 85ms/step - loss: 0.5326 - accuracy: 0.9174 - val_loss: 1.1456 - val_accuracy: 0.8966\n",
            "Epoch 3/15\n",
            "38/38 [==============================] - 3s 87ms/step - loss: 0.4625 - accuracy: 0.9299 - val_loss: 1.1481 - val_accuracy: 0.8960\n",
            "Epoch 4/15\n",
            "38/38 [==============================] - 3s 87ms/step - loss: 0.4122 - accuracy: 0.9439 - val_loss: 1.1508 - val_accuracy: 0.8966\n",
            "Epoch 5/15\n",
            "38/38 [==============================] - 3s 86ms/step - loss: 0.3715 - accuracy: 0.9578 - val_loss: 1.1508 - val_accuracy: 0.8966\n",
            "Epoch 6/15\n",
            "38/38 [==============================] - 3s 85ms/step - loss: 0.3348 - accuracy: 0.9699 - val_loss: 1.1567 - val_accuracy: 0.8975\n",
            "Epoch 7/15\n",
            "38/38 [==============================] - 3s 86ms/step - loss: 0.3031 - accuracy: 0.9780 - val_loss: 1.1589 - val_accuracy: 0.8985\n",
            "Epoch 8/15\n",
            "38/38 [==============================] - 3s 85ms/step - loss: 0.2732 - accuracy: 0.9848 - val_loss: 1.1630 - val_accuracy: 0.8975\n",
            "Epoch 9/15\n",
            "38/38 [==============================] - 3s 87ms/step - loss: 0.2461 - accuracy: 0.9887 - val_loss: 1.1651 - val_accuracy: 0.8979\n",
            "Epoch 10/15\n",
            "38/38 [==============================] - 3s 86ms/step - loss: 0.2219 - accuracy: 0.9920 - val_loss: 1.1679 - val_accuracy: 0.8985\n",
            "Epoch 11/15\n",
            "38/38 [==============================] - 3s 87ms/step - loss: 0.2006 - accuracy: 0.9938 - val_loss: 1.1700 - val_accuracy: 0.8985\n",
            "Epoch 12/15\n",
            "38/38 [==============================] - 3s 86ms/step - loss: 0.1815 - accuracy: 0.9952 - val_loss: 1.1734 - val_accuracy: 0.8987\n",
            "Epoch 13/15\n",
            "38/38 [==============================] - 3s 84ms/step - loss: 0.1631 - accuracy: 0.9961 - val_loss: 1.1747 - val_accuracy: 0.8985\n",
            "Epoch 14/15\n",
            "38/38 [==============================] - 3s 86ms/step - loss: 0.1472 - accuracy: 0.9975 - val_loss: 1.1758 - val_accuracy: 0.8989\n",
            "Epoch 15/15\n",
            "38/38 [==============================] - 3s 85ms/step - loss: 0.1328 - accuracy: 0.9981 - val_loss: 1.1781 - val_accuracy: 0.8987\n"
          ],
          "name": "stdout"
        }
      ]
    },
    {
      "cell_type": "code",
      "metadata": {
        "colab": {
          "base_uri": "https://localhost:8080/"
        },
        "id": "InUdA5DkB5y6",
        "outputId": "7edbd0f7-a971-4e15-f865-c6b4708f04e6"
      },
      "source": [
        "train(4)"
      ],
      "execution_count": 10,
      "outputs": [
        {
          "output_type": "stream",
          "text": [
            "Epoch 1/15\n",
            "38/38 [==============================] - 4s 95ms/step - loss: 0.4680 - accuracy: 0.9314 - val_loss: 1.0638 - val_accuracy: 0.9097\n",
            "Epoch 2/15\n",
            "38/38 [==============================] - 3s 82ms/step - loss: 0.3414 - accuracy: 0.9678 - val_loss: 1.0678 - val_accuracy: 0.9109\n",
            "Epoch 3/15\n",
            "38/38 [==============================] - 3s 82ms/step - loss: 0.2772 - accuracy: 0.9809 - val_loss: 1.0735 - val_accuracy: 0.9112\n",
            "Epoch 4/15\n",
            "38/38 [==============================] - 3s 82ms/step - loss: 0.2318 - accuracy: 0.9886 - val_loss: 1.0813 - val_accuracy: 0.9114\n",
            "Epoch 5/15\n",
            "38/38 [==============================] - 3s 81ms/step - loss: 0.1973 - accuracy: 0.9927 - val_loss: 1.0847 - val_accuracy: 0.9120\n",
            "Epoch 6/15\n",
            "38/38 [==============================] - 3s 82ms/step - loss: 0.1698 - accuracy: 0.9946 - val_loss: 1.0903 - val_accuracy: 0.9118\n",
            "Epoch 7/15\n",
            "38/38 [==============================] - 3s 83ms/step - loss: 0.1475 - accuracy: 0.9966 - val_loss: 1.0931 - val_accuracy: 0.9118\n",
            "Epoch 8/15\n",
            "38/38 [==============================] - 3s 81ms/step - loss: 0.1284 - accuracy: 0.9975 - val_loss: 1.0976 - val_accuracy: 0.9120\n",
            "Epoch 9/15\n",
            "38/38 [==============================] - 3s 83ms/step - loss: 0.1129 - accuracy: 0.9982 - val_loss: 1.0998 - val_accuracy: 0.9120\n",
            "Epoch 10/15\n",
            "38/38 [==============================] - 3s 82ms/step - loss: 0.0998 - accuracy: 0.9988 - val_loss: 1.1027 - val_accuracy: 0.9116\n",
            "Epoch 11/15\n",
            "38/38 [==============================] - 3s 82ms/step - loss: 0.0888 - accuracy: 0.9994 - val_loss: 1.1055 - val_accuracy: 0.9118\n",
            "Epoch 12/15\n",
            "38/38 [==============================] - 3s 82ms/step - loss: 0.0794 - accuracy: 0.9995 - val_loss: 1.1075 - val_accuracy: 0.9118\n",
            "Epoch 13/15\n",
            "38/38 [==============================] - 3s 81ms/step - loss: 0.0715 - accuracy: 0.9995 - val_loss: 1.1084 - val_accuracy: 0.9114\n",
            "Epoch 14/15\n",
            "38/38 [==============================] - 3s 83ms/step - loss: 0.0646 - accuracy: 0.9997 - val_loss: 1.1100 - val_accuracy: 0.9114\n",
            "Epoch 15/15\n",
            "38/38 [==============================] - 3s 81ms/step - loss: 0.0586 - accuracy: 0.9997 - val_loss: 1.1115 - val_accuracy: 0.9112\n"
          ],
          "name": "stdout"
        }
      ]
    },
    {
      "cell_type": "code",
      "metadata": {
        "id": "u1xHRyBmC0Hv"
      },
      "source": [
        "model = keras.models.load_model('model.h5')\n",
        "\n",
        "def predict(raw):\n",
        "    \n",
        "    test = raw.split(\" \")\n",
        "    for i in range(MAX_LEN-len(test)):\n",
        "        test.append(\"\")\n",
        "\n",
        "    test = [test]\n",
        "    test = tokenize(test, wordToNum)\n",
        "\n",
        "\n",
        "    pred = model.predict(test)\n",
        "\n",
        "    normalized = []\n",
        "    for i in range(MAX_LEN):\n",
        "        normalized.append(numToWord[np.argmax(pred[0][i])])\n",
        "\n",
        "    normalized = \" \".join(normalized)\n",
        "\n",
        "    return normalized"
      ],
      "execution_count": 11,
      "outputs": []
    },
    {
      "cell_type": "code",
      "metadata": {
        "colab": {
          "base_uri": "https://localhost:8080/"
        },
        "id": "Nc3FSF6UGv_4",
        "outputId": "6dcb0feb-9597-4076-ce01-91c5d4b1df6c"
      },
      "source": [
        "raw = \"U r not playin wif Me\"\n",
        "\n",
        "norm = predict(raw)\n",
        "print(\"Raw : \", raw)\n",
        "print(\"Norm: \", norm)"
      ],
      "execution_count": 12,
      "outputs": [
        {
          "output_type": "stream",
          "text": [
            "Raw :  U r not playin wif Me\n",
            "Norm:  you are not playing with me                                            \n"
          ],
          "name": "stdout"
        }
      ]
    },
    {
      "cell_type": "code",
      "metadata": {
        "colab": {
          "base_uri": "https://localhost:8080/"
        },
        "id": "KAwWZ7uSICo5",
        "outputId": "dd05c27b-79c2-4758-8324-af83a0976278"
      },
      "source": [
        "raw = \"omg u r so funny , LOL\"\n",
        "\n",
        "norm = predict(raw)\n",
        "print(\"Raw : \", raw)\n",
        "print(\"Norm: \", norm)"
      ],
      "execution_count": 13,
      "outputs": [
        {
          "output_type": "stream",
          "text": [
            "Raw :  omg u r so funny , LOL\n",
            "Norm:  oh my god you are so funny , laughing out loud                                           \n"
          ],
          "name": "stdout"
        }
      ]
    },
    {
      "cell_type": "code",
      "metadata": {
        "colab": {
          "base_uri": "https://localhost:8080/"
        },
        "id": "spzjan-GIn1u",
        "outputId": "691211a5-0aaa-4a3f-d322-744a5a829cdf"
      },
      "source": [
        "raw = \"tbh idk anything abt it\"\n",
        "\n",
        "norm = predict(raw)\n",
        "print(\"Raw : \", raw)\n",
        "print(\"Norm: \", norm)"
      ],
      "execution_count": 14,
      "outputs": [
        {
          "output_type": "stream",
          "text": [
            "Raw :  tbh idk anything abt it\n",
            "Norm:  to be honest i don't know anything about it                                             \n"
          ],
          "name": "stdout"
        }
      ]
    },
    {
      "cell_type": "code",
      "metadata": {
        "colab": {
          "base_uri": "https://localhost:8080/"
        },
        "id": "nmnXuCEmJ5tr",
        "outputId": "3c88ff95-75b3-40d5-8196-6ba2a0e4472d"
      },
      "source": [
        "raw = \"yea ... didnt Look lik it\"\n",
        "\n",
        "norm = predict(raw)\n",
        "print(\"Raw : \", raw)\n",
        "print(\"Norm: \", norm)"
      ],
      "execution_count": 15,
      "outputs": [
        {
          "output_type": "stream",
          "text": [
            "Raw :  yea ... didnt Look lik it\n",
            "Norm:  yeah ... didn't look like it                                            \n"
          ],
          "name": "stdout"
        }
      ]
    }
  ]
}