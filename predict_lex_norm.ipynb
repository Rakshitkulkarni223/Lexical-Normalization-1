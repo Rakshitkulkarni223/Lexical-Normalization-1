{
  "nbformat": 4,
  "nbformat_minor": 0,
  "metadata": {
    "colab": {
      "name": "predict_lex_norm.ipynb",
      "provenance": [],
      "collapsed_sections": []
    },
    "kernelspec": {
      "name": "python3",
      "display_name": "Python 3"
    },
    "language_info": {
      "name": "python"
    },
    "accelerator": "GPU"
  },
  "cells": [
    {
      "cell_type": "code",
      "metadata": {
        "id": "crqxq4LHvWj_"
      },
      "source": [
        "import warnings\n",
        "warnings.filterwarnings('ignore',category=FutureWarning)\n",
        "\n",
        "import numpy as np\n",
        "import pickle as pkl\n",
        "\n",
        "from tensorflow import keras\n",
        "\n",
        "MAX_LEN = 50"
      ],
      "execution_count": 1,
      "outputs": []
    },
    {
      "cell_type": "code",
      "metadata": {
        "id": "EGiIxAqq6Ik2"
      },
      "source": [
        "def tokenize(data,wordToNum):\n",
        "\n",
        "    tokenizedData = []\n",
        "\n",
        "    for sent in data:\n",
        "\n",
        "        tokenizedSent = []\n",
        "        for word in sent:\n",
        "            tokenizedSent.append(wordToNum[word])\n",
        "\n",
        "        tokenizedSent=np.array(tokenizedSent,dtype=float)\n",
        "        tokenizedData.append(tokenizedSent)\n",
        "\n",
        "    return np.array(tokenizedData)"
      ],
      "execution_count": 2,
      "outputs": []
    },
    {
      "cell_type": "code",
      "metadata": {
        "id": "-gIVFdBM6LAc"
      },
      "source": [
        "def predict(raw):\n",
        "    \n",
        "    model = keras.models.load_model('model.h5')\n",
        "    wordToNum = pkl.load(open('data/wordToNum.pkl', 'rb'))\n",
        "    numToWord = pkl.load(open('data/numToWord.pkl', 'rb'))\n",
        "\n",
        "    test = raw.split(\" \")\n",
        "    for i in range(MAX_LEN-len(test)):\n",
        "        test.append(\"\")\n",
        "\n",
        "    test = [test]\n",
        "    test = tokenize(test, wordToNum)\n",
        "\n",
        "\n",
        "    pred = model.predict(test)\n",
        "\n",
        "    normalized = []\n",
        "    for i in range(MAX_LEN):\n",
        "        normalized.append(numToWord[np.argmax(pred[0][i])])\n",
        "\n",
        "    normalized = \" \".join(normalized)\n",
        "\n",
        "    return normalized"
      ],
      "execution_count": 3,
      "outputs": []
    },
    {
      "cell_type": "code",
      "metadata": {
        "colab": {
          "base_uri": "https://localhost:8080/"
        },
        "id": "Q5BBZcKq6LSl",
        "outputId": "35fd57b7-9ad0-430f-c9e6-a5bd664607ed"
      },
      "source": [
        "raw = \"U r not playin wif Me\"\n",
        "\n",
        "norm = predict(raw)\n",
        "print(\"Raw : \", raw)\n",
        "print(\"Norm: \", norm)"
      ],
      "execution_count": 4,
      "outputs": [
        {
          "output_type": "stream",
          "text": [
            "Raw :  U r not playin wif Me\n",
            "Norm:  you are not playing with me                                            \n"
          ],
          "name": "stdout"
        }
      ]
    },
    {
      "cell_type": "code",
      "metadata": {
        "colab": {
          "base_uri": "https://localhost:8080/"
        },
        "id": "wWtbiKku6NQh",
        "outputId": "87c3f0ee-91ee-449c-830b-b06c86590930"
      },
      "source": [
        "raw = \"omg u r so funny , LOL\"\n",
        "\n",
        "norm = predict(raw)\n",
        "print(\"Raw : \", raw)\n",
        "print(\"Norm: \", norm)"
      ],
      "execution_count": 5,
      "outputs": [
        {
          "output_type": "stream",
          "text": [
            "Raw :  omg u r so funny , LOL\n",
            "Norm:  oh my god you are so funny , laughing out loud                                           \n"
          ],
          "name": "stdout"
        }
      ]
    },
    {
      "cell_type": "code",
      "metadata": {
        "colab": {
          "base_uri": "https://localhost:8080/"
        },
        "id": "6_uZ2W0C6O92",
        "outputId": "3ba42547-a3f4-4fa9-b300-7573abf11039"
      },
      "source": [
        "raw = \"tbh idk anything abt it\"\n",
        "\n",
        "norm = predict(raw)\n",
        "print(\"Raw : \", raw)\n",
        "print(\"Norm: \", norm)"
      ],
      "execution_count": 6,
      "outputs": [
        {
          "output_type": "stream",
          "text": [
            "Raw :  tbh idk anything abt it\n",
            "Norm:  to be honest i don't know anything about it                                             \n"
          ],
          "name": "stdout"
        }
      ]
    },
    {
      "cell_type": "code",
      "metadata": {
        "colab": {
          "base_uri": "https://localhost:8080/"
        },
        "id": "0e3w3lSi6QPz",
        "outputId": "a4207bcd-0c57-4984-818e-4a686092197c"
      },
      "source": [
        "raw = \"yea ... didnt Look lik it\"\n",
        "\n",
        "norm = predict(raw)\n",
        "print(\"Raw : \", raw)\n",
        "print(\"Norm: \", norm)"
      ],
      "execution_count": 7,
      "outputs": [
        {
          "output_type": "stream",
          "text": [
            "Raw :  yea ... didnt Look lik it\n",
            "Norm:  yeah ... didn't look like it                                            \n"
          ],
          "name": "stdout"
        }
      ]
    }
  ]
}