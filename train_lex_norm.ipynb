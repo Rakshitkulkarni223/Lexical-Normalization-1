{
  "nbformat": 4,
  "nbformat_minor": 0,
  "metadata": {
    "colab": {
      "name": "train_lex_norm.ipynb",
      "provenance": [],
      "collapsed_sections": []
    },
    "kernelspec": {
      "name": "python3",
      "display_name": "Python 3"
    },
    "language_info": {
      "name": "python"
    },
    "accelerator": "GPU"
  },
  "cells": [
    {
      "cell_type": "code",
      "metadata": {
        "id": "XLtM5EJ4o6Za"
      },
      "source": [
        "import warnings\n",
        "warnings.filterwarnings('ignore',category=FutureWarning)\n",
        "\n",
        "import re\n",
        "import json\n",
        "import numpy as np\n",
        "import pandas as pd\n",
        "import pickle as pkl\n",
        "\n",
        "from collections import defaultdict \n",
        "\n",
        "from tensorflow import keras\n",
        "from tensorflow import one_hot\n",
        "\n",
        "from tensorflow.keras.models import Sequential\n",
        "\n",
        "from tensorflow.keras.layers import LSTM\n",
        "from tensorflow.keras.layers import Dense\n",
        "from tensorflow.keras.layers import Input\n",
        "from tensorflow.keras.layers import Embedding\n",
        "from tensorflow.keras.layers import Activation\n",
        "from tensorflow.keras.layers import TimeDistributed\n",
        "\n",
        "from tensorflow.keras.optimizers import Adam\n",
        "\n",
        "EPOCHS = 35\n",
        "MAX_LEN = 50\n",
        "BATCH_SIZE = 16\n",
        "HIDDEN_DIM = 100\n",
        "VECTOR_DIM = 100\n",
        "VALID_SPLIT = 0.2"
      ],
      "execution_count": 1,
      "outputs": []
    },
    {
      "cell_type": "code",
      "metadata": {
        "id": "XyDmszkSuDof"
      },
      "source": [
        "def get_data(path):\n",
        "\n",
        "    X = []\n",
        "    Y = []\n",
        "\n",
        "    data = json.load(open(path))\n",
        "\n",
        "    for dict in data:\n",
        "\n",
        "        x = dict['input']\n",
        "        y = dict['output']\n",
        "\n",
        "        n = len(x)\n",
        "\n",
        "        for i in range(n):\n",
        "            x[i] = re.sub('@[^ ]+','<username>',x[i])\n",
        "            x[i] = re.sub('http://[^ ]+','<link>',x[i])\n",
        "            x[i] = re.sub('#[^ ]+','<hashtag>',x[i])\n",
        "\n",
        "            y[i] = re.sub('@[^ ]+','<username>',y[i])\n",
        "            y[i] = re.sub('http://[^ ]+','<link>',y[i])\n",
        "            y[i] = re.sub('#[^ ]+','<hashtag>',y[i])\n",
        "\n",
        "        for _ in range(MAX_LEN-n):\n",
        "            x.append(\"\")\n",
        "            y.append(\"\")\n",
        "        \n",
        "        X.append(x)\n",
        "        Y.append(y)\n",
        "\n",
        "    return X, Y"
      ],
      "execution_count": 2,
      "outputs": []
    },
    {
      "cell_type": "code",
      "metadata": {
        "id": "W7Wfmdd6uIT_"
      },
      "source": [
        "def buildDict(data):\n",
        "\n",
        "    wordToNum = defaultdict(int)\n",
        "    num = 1\n",
        "    for sent in data:\n",
        "        for word in sent:\n",
        "            if word not in wordToNum.keys():\n",
        "                wordToNum[word] = num\n",
        "                num+= 1\n",
        "\n",
        "    return wordToNum"
      ],
      "execution_count": 3,
      "outputs": []
    },
    {
      "cell_type": "code",
      "metadata": {
        "id": "bllowJTjuL6e"
      },
      "source": [
        "def buildDictInv(wordToNum):\n",
        "\n",
        "    numToWord = defaultdict(str)\n",
        "\n",
        "    for key in wordToNum.keys():\n",
        "        numToWord[wordToNum[key]] = key\n",
        "\n",
        "    return numToWord"
      ],
      "execution_count": 4,
      "outputs": []
    },
    {
      "cell_type": "code",
      "metadata": {
        "id": "e234Bo_GuPk2"
      },
      "source": [
        "def tokenize(data,wordToNum):\n",
        "\n",
        "    tokenizedData = []\n",
        "\n",
        "    for sent in data:\n",
        "\n",
        "        tokenizedSent = []\n",
        "        for word in sent:\n",
        "            tokenizedSent.append(wordToNum[word])\n",
        "\n",
        "        tokenizedSent=np.array(tokenizedSent,dtype=float)\n",
        "        tokenizedData.append(tokenizedSent)\n",
        "\n",
        "    return np.array(tokenizedData)"
      ],
      "execution_count": 5,
      "outputs": []
    },
    {
      "cell_type": "code",
      "metadata": {
        "id": "a6852y15uSvb"
      },
      "source": [
        "def getModel(VOCAB_SIZE):\n",
        "\n",
        "    model = Sequential()\n",
        "\n",
        "    model.add(Input(shape=(MAX_LEN,)))\n",
        "    model.add(Embedding(VOCAB_SIZE, output_dim=VECTOR_DIM, input_length=MAX_LEN, trainable=True))\n",
        "    model.add(LSTM(HIDDEN_DIM, return_sequences = True))\n",
        "    model.add(TimeDistributed(Dense(VOCAB_SIZE)))\n",
        "    model.add(Activation('softmax'))\n",
        "    model.compile(optimizer='adam', loss='sparse_categorical_crossentropy', metrics=['sparse_categorical_accuracy'])\n",
        "    \n",
        "    print(model.summary())\n",
        "    \n",
        "    return model"
      ],
      "execution_count": 6,
      "outputs": []
    },
    {
      "cell_type": "code",
      "metadata": {
        "id": "NGMSIGF0uXF1"
      },
      "source": [
        "def defineModel():\n",
        "\n",
        "    raw, normalized = get_data('data/data.json')\n",
        "\n",
        "    wordToNum = buildDict(raw + normalized)\n",
        "    numToWord = buildDictInv(wordToNum)\n",
        "    vocab_size = len(wordToNum)+1\n",
        "\n",
        "    model       = getModel(vocab_size)\n",
        "\n",
        "    model.save('model.h5')\n",
        "    pkl.dump(wordToNum, open('data/wordToNum.pkl', 'wb'))\n",
        "    pkl.dump(numToWord, open('data/numToWord.pkl', 'wb'))"
      ],
      "execution_count": 7,
      "outputs": []
    },
    {
      "cell_type": "code",
      "metadata": {
        "id": "NRFQxCCCuhRo"
      },
      "source": [
        "def train():\n",
        "\n",
        "  model = keras.models.load_model('model.h5')\n",
        "  wordToNum = pkl.load(open('data/wordToNum.pkl', 'rb'))\n",
        "\n",
        "  raw, normalized = get_data('data/data.json')\n",
        "  print(\"Total Samples   : \", len(raw))\n",
        "\n",
        "  raw = tokenize(raw, wordToNum)\n",
        "  normalized = tokenize(normalized, wordToNum)\n",
        "\n",
        "  x = raw\n",
        "  y = normalized\n",
        "  y = y.reshape(y.shape[0], y.shape[1], 1)\n",
        "\n",
        "  model.fit(x, y, batch_size = BATCH_SIZE, epochs = EPOCHS, validation_split=VALID_SPLIT)\n",
        "\n",
        "  model.save('model.h5')"
      ],
      "execution_count": 8,
      "outputs": []
    },
    {
      "cell_type": "code",
      "metadata": {
        "colab": {
          "base_uri": "https://localhost:8080/"
        },
        "id": "Op-jd3V9u08B",
        "outputId": "2a10d9ec-85c2-4d35-fbec-9a50bcea9004"
      },
      "source": [
        "defineModel()"
      ],
      "execution_count": 9,
      "outputs": [
        {
          "output_type": "stream",
          "text": [
            "Model: \"sequential\"\n",
            "_________________________________________________________________\n",
            "Layer (type)                 Output Shape              Param #   \n",
            "=================================================================\n",
            "embedding (Embedding)        (None, 50, 100)           2222800   \n",
            "_________________________________________________________________\n",
            "lstm (LSTM)                  (None, 50, 100)           80400     \n",
            "_________________________________________________________________\n",
            "time_distributed (TimeDistri (None, 50, 22228)         2245028   \n",
            "_________________________________________________________________\n",
            "activation (Activation)      (None, 50, 22228)         0         \n",
            "=================================================================\n",
            "Total params: 4,548,228\n",
            "Trainable params: 4,548,228\n",
            "Non-trainable params: 0\n",
            "_________________________________________________________________\n",
            "None\n"
          ],
          "name": "stdout"
        }
      ]
    },
    {
      "cell_type": "code",
      "metadata": {
        "colab": {
          "base_uri": "https://localhost:8080/"
        },
        "id": "u3KZyWevvu8P",
        "outputId": "0331f79f-e917-4cde-8c46-dffa6bb5cdf9"
      },
      "source": [
        "train()"
      ],
      "execution_count": 10,
      "outputs": [
        {
          "output_type": "stream",
          "text": [
            "Total Samples   :  4917\n",
            "Epoch 1/35\n",
            "246/246 [==============================] - 17s 54ms/step - loss: 3.5829 - sparse_categorical_accuracy: 0.6984 - val_loss: 2.3238 - val_sparse_categorical_accuracy: 0.6958\n",
            "Epoch 2/35\n",
            "246/246 [==============================] - 12s 50ms/step - loss: 2.0460 - sparse_categorical_accuracy: 0.7162 - val_loss: 2.0072 - val_sparse_categorical_accuracy: 0.7192\n",
            "Epoch 3/35\n",
            "246/246 [==============================] - 12s 50ms/step - loss: 1.8277 - sparse_categorical_accuracy: 0.7404 - val_loss: 1.8743 - val_sparse_categorical_accuracy: 0.7438\n",
            "Epoch 4/35\n",
            "246/246 [==============================] - 12s 50ms/step - loss: 1.6790 - sparse_categorical_accuracy: 0.7600 - val_loss: 1.7575 - val_sparse_categorical_accuracy: 0.7691\n",
            "Epoch 5/35\n",
            "246/246 [==============================] - 12s 50ms/step - loss: 1.5292 - sparse_categorical_accuracy: 0.7897 - val_loss: 1.6197 - val_sparse_categorical_accuracy: 0.8070\n",
            "Epoch 6/35\n",
            "246/246 [==============================] - 12s 50ms/step - loss: 1.3718 - sparse_categorical_accuracy: 0.8187 - val_loss: 1.4937 - val_sparse_categorical_accuracy: 0.8289\n",
            "Epoch 7/35\n",
            "246/246 [==============================] - 12s 50ms/step - loss: 1.2329 - sparse_categorical_accuracy: 0.8402 - val_loss: 1.3938 - val_sparse_categorical_accuracy: 0.8488\n",
            "Epoch 8/35\n",
            "246/246 [==============================] - 12s 49ms/step - loss: 1.1123 - sparse_categorical_accuracy: 0.8566 - val_loss: 1.3089 - val_sparse_categorical_accuracy: 0.8624\n",
            "Epoch 9/35\n",
            "246/246 [==============================] - 12s 50ms/step - loss: 1.0044 - sparse_categorical_accuracy: 0.8710 - val_loss: 1.2416 - val_sparse_categorical_accuracy: 0.8740\n",
            "Epoch 10/35\n",
            "246/246 [==============================] - 12s 50ms/step - loss: 0.9091 - sparse_categorical_accuracy: 0.8827 - val_loss: 1.1837 - val_sparse_categorical_accuracy: 0.8851\n",
            "Epoch 11/35\n",
            "246/246 [==============================] - 12s 50ms/step - loss: 0.8255 - sparse_categorical_accuracy: 0.8934 - val_loss: 1.1377 - val_sparse_categorical_accuracy: 0.8943\n",
            "Epoch 12/35\n",
            "246/246 [==============================] - 12s 50ms/step - loss: 0.7507 - sparse_categorical_accuracy: 0.9026 - val_loss: 1.1057 - val_sparse_categorical_accuracy: 0.9016\n",
            "Epoch 13/35\n",
            "246/246 [==============================] - 12s 50ms/step - loss: 0.6837 - sparse_categorical_accuracy: 0.9103 - val_loss: 1.0764 - val_sparse_categorical_accuracy: 0.9075\n",
            "Epoch 14/35\n",
            "246/246 [==============================] - 12s 50ms/step - loss: 0.6226 - sparse_categorical_accuracy: 0.9173 - val_loss: 1.0521 - val_sparse_categorical_accuracy: 0.9115\n",
            "Epoch 15/35\n",
            "246/246 [==============================] - 12s 50ms/step - loss: 0.5664 - sparse_categorical_accuracy: 0.9229 - val_loss: 1.0349 - val_sparse_categorical_accuracy: 0.9157\n",
            "Epoch 16/35\n",
            "246/246 [==============================] - 12s 50ms/step - loss: 0.5144 - sparse_categorical_accuracy: 0.9296 - val_loss: 1.0148 - val_sparse_categorical_accuracy: 0.9190\n",
            "Epoch 17/35\n",
            "246/246 [==============================] - 12s 50ms/step - loss: 0.4658 - sparse_categorical_accuracy: 0.9358 - val_loss: 1.0029 - val_sparse_categorical_accuracy: 0.9218\n",
            "Epoch 18/35\n",
            "246/246 [==============================] - 12s 50ms/step - loss: 0.4204 - sparse_categorical_accuracy: 0.9419 - val_loss: 0.9915 - val_sparse_categorical_accuracy: 0.9241\n",
            "Epoch 19/35\n",
            "246/246 [==============================] - 12s 50ms/step - loss: 0.3782 - sparse_categorical_accuracy: 0.9483 - val_loss: 0.9810 - val_sparse_categorical_accuracy: 0.9261\n",
            "Epoch 20/35\n",
            "246/246 [==============================] - 12s 50ms/step - loss: 0.3388 - sparse_categorical_accuracy: 0.9559 - val_loss: 0.9729 - val_sparse_categorical_accuracy: 0.9279\n",
            "Epoch 21/35\n",
            "246/246 [==============================] - 12s 50ms/step - loss: 0.3020 - sparse_categorical_accuracy: 0.9640 - val_loss: 0.9659 - val_sparse_categorical_accuracy: 0.9293\n",
            "Epoch 22/35\n",
            "246/246 [==============================] - 12s 50ms/step - loss: 0.2675 - sparse_categorical_accuracy: 0.9727 - val_loss: 0.9562 - val_sparse_categorical_accuracy: 0.9302\n",
            "Epoch 23/35\n",
            "246/246 [==============================] - 12s 50ms/step - loss: 0.2356 - sparse_categorical_accuracy: 0.9809 - val_loss: 0.9483 - val_sparse_categorical_accuracy: 0.9309\n",
            "Epoch 24/35\n",
            "246/246 [==============================] - 12s 50ms/step - loss: 0.2058 - sparse_categorical_accuracy: 0.9874 - val_loss: 0.9439 - val_sparse_categorical_accuracy: 0.9319\n",
            "Epoch 25/35\n",
            "246/246 [==============================] - 12s 50ms/step - loss: 0.1785 - sparse_categorical_accuracy: 0.9919 - val_loss: 0.9397 - val_sparse_categorical_accuracy: 0.9325\n",
            "Epoch 26/35\n",
            "246/246 [==============================] - 12s 50ms/step - loss: 0.1542 - sparse_categorical_accuracy: 0.9947 - val_loss: 0.9353 - val_sparse_categorical_accuracy: 0.9329\n",
            "Epoch 27/35\n",
            "246/246 [==============================] - 12s 50ms/step - loss: 0.1323 - sparse_categorical_accuracy: 0.9965 - val_loss: 0.9311 - val_sparse_categorical_accuracy: 0.9332\n",
            "Epoch 28/35\n",
            "246/246 [==============================] - 12s 50ms/step - loss: 0.1129 - sparse_categorical_accuracy: 0.9974 - val_loss: 0.9277 - val_sparse_categorical_accuracy: 0.9335\n",
            "Epoch 29/35\n",
            "246/246 [==============================] - 12s 50ms/step - loss: 0.0957 - sparse_categorical_accuracy: 0.9980 - val_loss: 0.9245 - val_sparse_categorical_accuracy: 0.9337\n",
            "Epoch 30/35\n",
            "246/246 [==============================] - 12s 50ms/step - loss: 0.0808 - sparse_categorical_accuracy: 0.9984 - val_loss: 0.9196 - val_sparse_categorical_accuracy: 0.9339\n",
            "Epoch 31/35\n",
            "246/246 [==============================] - 12s 50ms/step - loss: 0.0681 - sparse_categorical_accuracy: 0.9987 - val_loss: 0.9166 - val_sparse_categorical_accuracy: 0.9339\n",
            "Epoch 32/35\n",
            "246/246 [==============================] - 12s 50ms/step - loss: 0.0573 - sparse_categorical_accuracy: 0.9989 - val_loss: 0.9118 - val_sparse_categorical_accuracy: 0.9342\n",
            "Epoch 33/35\n",
            "246/246 [==============================] - 12s 50ms/step - loss: 0.0482 - sparse_categorical_accuracy: 0.9990 - val_loss: 0.9097 - val_sparse_categorical_accuracy: 0.9343\n",
            "Epoch 34/35\n",
            "246/246 [==============================] - 12s 50ms/step - loss: 0.0406 - sparse_categorical_accuracy: 0.9991 - val_loss: 0.9065 - val_sparse_categorical_accuracy: 0.9344\n",
            "Epoch 35/35\n",
            "246/246 [==============================] - 12s 50ms/step - loss: 0.0343 - sparse_categorical_accuracy: 0.9993 - val_loss: 0.9039 - val_sparse_categorical_accuracy: 0.9345\n"
          ],
          "name": "stdout"
        }
      ]
    }
  ]
}